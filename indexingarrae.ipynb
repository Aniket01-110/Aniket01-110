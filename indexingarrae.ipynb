{
 "cells": [
  {
   "cell_type": "code",
   "execution_count": 2,
   "metadata": {},
   "outputs": [
    {
     "name": "stdout",
     "output_type": "stream",
     "text": [
      "i\n",
      "<class 'array.array'>\n",
      "array('i', [1, 2, 3])\n",
      "3\n",
      "123\n",
      "\n",
      "d\n",
      "3\n",
      "<class 'array.array'>\n",
      "342342.023432.0343244.0 \n",
      " \n",
      "5\n",
      "f\n",
      "232.0423423.03243.0578756.056773.0 \n",
      " \n"
     ]
    }
   ],
   "source": [ #starting with array
    "import array as myarray\n",
    "arr = myarray.array('i',[1, 2 , 3]) #here 'i' stands for an integer\n",
    "print(arr.typecode)\n",
    "print(type(arr))\n",
    "print(arr)\n",
    "\n",
    "arr1 = myarray.array(\"i\",[23,5432,423])\n",
    "print(len(arr1))\n",
    "\n",
    "for i in range(0,len(arr)):\n",
    "    print(arr[i],end=\"\")\n",
    "    \n",
    "print( \"\\n\" )\n",
    "\n",
    "\n",
    "arr2 = myarray.array(\"d\",[342342, 23432 ,343244])\n",
    "print(arr2.typecode)\n",
    "print(len(arr))\n",
    "print(type(arr2))\n",
    "for d in range(0,len(arr2)):\n",
    "    print(arr2[d],end=\"\")\n",
    "\n",
    "print(\" \\n \")\n",
    "\n",
    "arr3 = myarray.array(\"f\",[232, 423423,3243,578756,56773])\n",
    "print(len(arr3))\n",
    "print(arr3.typecode)\n",
    "\n",
    "for f in range(0,len(arr3)):\n",
    "    print(arr3[f],end=\"\")\n",
    "\n",
    "print(\" \\n \")\n",
    "\n",
    "\n",
    "\n",
    "\n",
    "\n",
    "\n",
    "\n"
   ]
  },
  {
   "cell_type": "code",
   "execution_count": 5,
   "metadata": {},
   "outputs": [
    {
     "name": "stdout",
     "output_type": "stream",
     "text": [
      "1234567891011121314151617181920212223242526272829\n",
      "\n",
      "21\n"
     ]
    }
   ],
   "source": [
    "#Assesing Elements  from an Array using index values\n",
    "x = list(range(1,30))\n",
    "new_array = myarray.array('i',x)\n",
    "\n",
    "for i in range(0,len(new_array)):\n",
    "    print(new_array[i],end=\"\")\n",
    "print(\"\\n\")\n",
    "\n",
    "print(new_array[20])\n",
    "#noice"
   ]
  },
  {
   "cell_type": "code",
   "execution_count": 3,
   "metadata": {},
   "outputs": [
    {
     "name": "stdout",
     "output_type": "stream",
     "text": [
      "456789\n",
      "\n",
      "123456789\n",
      "\n",
      "12345678911\n",
      "\n",
      "1234567891169\n",
      "\n"
     ]
    }
   ],
   "source": [
    "#inserting and appending an element in an array\n",
    "\n",
    "ww = myarray.array('i',[4,5,6,7,8,9])\n",
    "for i in range(0,len(ww)):\n",
    "    print(ww[i],end=\"\")\n",
    "print(\"\\n\")\n",
    "\n",
    "#adding elements using insert\n",
    "ww.insert(0,3)\n",
    "ww.insert(0,2)\n",
    "ww.insert(0,1)\n",
    "\n",
    "for i in range(0,len(ww)):\n",
    "    print(ww[i],end=\"\")\n",
    "print(\"\\n\")\n",
    "\n",
    "#adding elements using append\n",
    "ww.append(11)\n",
    "for i in range(0,len(ww)):\n",
    "    print(ww[i],end=\"\")\n",
    "print(\"\\n\")\n",
    "\n",
    "ww.append(69)\n",
    "for i in range(0,len(ww)):\n",
    "    print(ww[i],end=\"\")\n",
    "print(\"\\n\")\n"
   ]
  },
  {
   "cell_type": "code",
   "execution_count": 5,
   "metadata": {},
   "outputs": [
    {
     "name": "stdout",
     "output_type": "stream",
     "text": [
      "1245\n",
      "\n"
     ]
    }
   ],
   "source": [
    "#Updating elements in an array\n",
    "aa = myarray.array('i',[1,2,4,5])\n",
    "for i in range(0,len(aa)):\n",
    "    print(aa[i],end=\"\")\n",
    "print(\"\\n\")\n",
    "\n"
   ]
  },
  {
   "cell_type": "code",
   "execution_count": 7,
   "metadata": {},
   "outputs": [
    {
     "data": {
      "text/plain": [
       "7.0"
      ]
     },
     "execution_count": 7,
     "metadata": {},
     "output_type": "execute_result"
    }
   ],
   "source": [
    "import math\n",
    "math.sqrt(49)"
   ]
  },
  {
   "cell_type": "code",
   "execution_count": 17,
   "metadata": {},
   "outputs": [
    {
     "name": "stdout",
     "output_type": "stream",
     "text": [
      "8765\n",
      "\n",
      "8\n",
      "7\n",
      "6\n",
      "5\n"
     ]
    }
   ],
   "source": [
    "#reversing an array\n",
    "val = myarray.array('i',[5,6,7,8])\n",
    "val.reverse()\n",
    "for i in range(0,len(val)):\n",
    "    print(val[i],end=\"\")\n",
    "    \n",
    "print(\"\\n\")\n",
    "\n",
    "#printing each value \n",
    "new = myarray.array(val.typecode,(a  for a in val)) #can be done when u dont know the type of data\n",
    "for e in val:\n",
    "    print(e)\n"
   ]
  },
  {
   "cell_type": "code",
   "execution_count": 21,
   "metadata": {},
   "outputs": [
    {
     "ename": "KeyboardInterrupt",
     "evalue": "",
     "output_type": "error",
     "traceback": [
      "\u001b[1;31m---------------------------------------------------------------------------\u001b[0m",
      "\u001b[1;31mKeyboardInterrupt\u001b[0m                         Traceback (most recent call last)",
      "\u001b[1;32mc:\\Users\\ADMIN\\Desktop\\Aniket.py\\arrae.ipynb\\indexingarrae.ipynb Cell 7\u001b[0m line \u001b[0;36m2\n\u001b[0;32m      <a href='vscode-notebook-cell:/c%3A/Users/ADMIN/Desktop/Aniket.py/arrae.ipynb/indexingarrae.ipynb#W6sZmlsZQ%3D%3D?line=0'>1</a>\u001b[0m \u001b[39m#user input for array\u001b[39;00m\n\u001b[1;32m----> <a href='vscode-notebook-cell:/c%3A/Users/ADMIN/Desktop/Aniket.py/arrae.ipynb/indexingarrae.ipynb#W6sZmlsZQ%3D%3D?line=1'>2</a>\u001b[0m \u001b[39mfrom\u001b[39;00m \u001b[39marray\u001b[39;00m \u001b[39mimport\u001b[39;00m \u001b[39m*\u001b[39m\n\u001b[0;32m      <a href='vscode-notebook-cell:/c%3A/Users/ADMIN/Desktop/Aniket.py/arrae.ipynb/indexingarrae.ipynb#W6sZmlsZQ%3D%3D?line=2'>3</a>\u001b[0m arr \u001b[39m=\u001b[39m array(\u001b[39m'\u001b[39m\u001b[39mi\u001b[39m\u001b[39m'\u001b[39m,[])\n\u001b[0;32m      <a href='vscode-notebook-cell:/c%3A/Users/ADMIN/Desktop/Aniket.py/arrae.ipynb/indexingarrae.ipynb#W6sZmlsZQ%3D%3D?line=3'>4</a>\u001b[0m n \u001b[39m=\u001b[39m \u001b[39mint\u001b[39m(\u001b[39minput\u001b[39m(\u001b[39m\"\u001b[39m\u001b[39mEnter the size of the array:\u001b[39m\u001b[39m\"\u001b[39m))\n",
      "\u001b[1;32mc:\\Users\\ADMIN\\Desktop\\Aniket.py\\arrae.ipynb\\indexingarrae.ipynb Cell 7\u001b[0m line \u001b[0;36m2\n\u001b[0;32m      <a href='vscode-notebook-cell:/c%3A/Users/ADMIN/Desktop/Aniket.py/arrae.ipynb/indexingarrae.ipynb#W6sZmlsZQ%3D%3D?line=0'>1</a>\u001b[0m \u001b[39m#user input for array\u001b[39;00m\n\u001b[1;32m----> <a href='vscode-notebook-cell:/c%3A/Users/ADMIN/Desktop/Aniket.py/arrae.ipynb/indexingarrae.ipynb#W6sZmlsZQ%3D%3D?line=1'>2</a>\u001b[0m \u001b[39mfrom\u001b[39;00m \u001b[39marray\u001b[39;00m \u001b[39mimport\u001b[39;00m \u001b[39m*\u001b[39m\n\u001b[0;32m      <a href='vscode-notebook-cell:/c%3A/Users/ADMIN/Desktop/Aniket.py/arrae.ipynb/indexingarrae.ipynb#W6sZmlsZQ%3D%3D?line=2'>3</a>\u001b[0m arr \u001b[39m=\u001b[39m array(\u001b[39m'\u001b[39m\u001b[39mi\u001b[39m\u001b[39m'\u001b[39m,[])\n\u001b[0;32m      <a href='vscode-notebook-cell:/c%3A/Users/ADMIN/Desktop/Aniket.py/arrae.ipynb/indexingarrae.ipynb#W6sZmlsZQ%3D%3D?line=3'>4</a>\u001b[0m n \u001b[39m=\u001b[39m \u001b[39mint\u001b[39m(\u001b[39minput\u001b[39m(\u001b[39m\"\u001b[39m\u001b[39mEnter the size of the array:\u001b[39m\u001b[39m\"\u001b[39m))\n",
      "File \u001b[1;32m~\\AppData\\Roaming\\Python\\Python311\\site-packages\\debugpy\\_vendored\\pydevd\\_pydevd_bundle\\pydevd_frame.py:988\u001b[0m, in \u001b[0;36mPyDBFrame.trace_dispatch\u001b[1;34m(self, frame, event, arg)\u001b[0m\n\u001b[0;32m    986\u001b[0m \u001b[39m# if thread has a suspend flag, we suspend with a busy wait\u001b[39;00m\n\u001b[0;32m    987\u001b[0m \u001b[39mif\u001b[39;00m info\u001b[39m.\u001b[39mpydev_state \u001b[39m==\u001b[39m STATE_SUSPEND:\n\u001b[1;32m--> 988\u001b[0m     \u001b[39mself\u001b[39;49m\u001b[39m.\u001b[39;49mdo_wait_suspend(thread, frame, event, arg)\n\u001b[0;32m    989\u001b[0m     \u001b[39mreturn\u001b[39;00m \u001b[39mself\u001b[39m\u001b[39m.\u001b[39mtrace_dispatch\n\u001b[0;32m    990\u001b[0m \u001b[39melse\u001b[39;00m:\n",
      "File \u001b[1;32m~\\AppData\\Roaming\\Python\\Python311\\site-packages\\debugpy\\_vendored\\pydevd\\_pydevd_bundle\\pydevd_frame.py:165\u001b[0m, in \u001b[0;36mPyDBFrame.do_wait_suspend\u001b[1;34m(self, *args, **kwargs)\u001b[0m\n\u001b[0;32m    164\u001b[0m \u001b[39mdef\u001b[39;00m \u001b[39mdo_wait_suspend\u001b[39m(\u001b[39mself\u001b[39m, \u001b[39m*\u001b[39margs, \u001b[39m*\u001b[39m\u001b[39m*\u001b[39mkwargs):\n\u001b[1;32m--> 165\u001b[0m     \u001b[39mself\u001b[39;49m\u001b[39m.\u001b[39;49m_args[\u001b[39m0\u001b[39;49m]\u001b[39m.\u001b[39;49mdo_wait_suspend(\u001b[39m*\u001b[39;49margs, \u001b[39m*\u001b[39;49m\u001b[39m*\u001b[39;49mkwargs)\n",
      "File \u001b[1;32m~\\AppData\\Roaming\\Python\\Python311\\site-packages\\debugpy\\_vendored\\pydevd\\pydevd.py:2070\u001b[0m, in \u001b[0;36mPyDB.do_wait_suspend\u001b[1;34m(self, thread, frame, event, arg, exception_type)\u001b[0m\n\u001b[0;32m   2067\u001b[0m             from_this_thread\u001b[39m.\u001b[39mappend(frame_custom_thread_id)\n\u001b[0;32m   2069\u001b[0m     \u001b[39mwith\u001b[39;00m \u001b[39mself\u001b[39m\u001b[39m.\u001b[39m_threads_suspended_single_notification\u001b[39m.\u001b[39mnotify_thread_suspended(thread_id, thread, stop_reason):\n\u001b[1;32m-> 2070\u001b[0m         keep_suspended \u001b[39m=\u001b[39m \u001b[39mself\u001b[39;49m\u001b[39m.\u001b[39;49m_do_wait_suspend(thread, frame, event, arg, suspend_type, from_this_thread, frames_tracker)\n\u001b[0;32m   2072\u001b[0m frames_list \u001b[39m=\u001b[39m \u001b[39mNone\u001b[39;00m\n\u001b[0;32m   2074\u001b[0m \u001b[39mif\u001b[39;00m keep_suspended:\n\u001b[0;32m   2075\u001b[0m     \u001b[39m# This means that we should pause again after a set next statement.\u001b[39;00m\n",
      "File \u001b[1;32m~\\AppData\\Roaming\\Python\\Python311\\site-packages\\debugpy\\_vendored\\pydevd\\pydevd.py:2106\u001b[0m, in \u001b[0;36mPyDB._do_wait_suspend\u001b[1;34m(self, thread, frame, event, arg, suspend_type, from_this_thread, frames_tracker)\u001b[0m\n\u001b[0;32m   2103\u001b[0m         \u001b[39mself\u001b[39m\u001b[39m.\u001b[39m_call_input_hook()\n\u001b[0;32m   2105\u001b[0m     \u001b[39mself\u001b[39m\u001b[39m.\u001b[39mprocess_internal_commands()\n\u001b[1;32m-> 2106\u001b[0m     time\u001b[39m.\u001b[39msleep(\u001b[39m0.01\u001b[39m)\n\u001b[0;32m   2108\u001b[0m \u001b[39mself\u001b[39m\u001b[39m.\u001b[39mcancel_async_evaluation(get_current_thread_id(thread), \u001b[39mstr\u001b[39m(\u001b[39mid\u001b[39m(frame)))\n\u001b[0;32m   2110\u001b[0m \u001b[39m# process any stepping instructions\u001b[39;00m\n",
      "\u001b[1;31mKeyboardInterrupt\u001b[0m: "
     ]
    }
   ],
   "source": [
    "#user input for array\n",
    "from array import *\n",
    "arr = array('i',[])\n",
    "n = int(input(\"Enter the size of the array:\"))\n",
    "\n",
    "for i in range(n):\n",
    "    x = int(input(\"Enter the elements\"))\n",
    "    arr.append(x)\n",
    "    print(arr)\n",
    "    "
   ]
  }
 ],
 "metadata": {
  "kernelspec": {
   "display_name": "Python 3",
   "language": "python",
   "name": "python3"
  },
  "language_info": {
   "codemirror_mode": {
    "name": "ipython",
    "version": 3
   },
   "file_extension": ".py",
   "mimetype": "text/x-python",
   "name": "python",
   "nbconvert_exporter": "python",
   "pygments_lexer": "ipython3",
   "version": "3.11.0"
  }
 },
 "nbformat": 4,
 "nbformat_minor": 2
}
